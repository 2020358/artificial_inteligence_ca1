{
 "cells": [
  {
   "cell_type": "code",
   "execution_count": 1,
   "id": "824f6e90",
   "metadata": {},
   "outputs": [],
   "source": [
    "graph = {\n",
    "    'A': [('B',1), ('C',5), ('H',2)],\n",
    "    'B': [('A',1), ('C',2), ('D',4)],\n",
    "    'C': [('A',5), ('B',2), ('G',1)],\n",
    "    'D': [('B',4), ('E',4), ('F',7), ('L', 7)],\n",
    "    'E': [('D',4), ('F',3), ('W',6)],\n",
    "    'F': [('D',7), ('E',3), ('G',2)],\n",
    "    'G': [('C',1), ('F',2), ('L',3)],\n",
    "    'H': [('A',2), ('J',9), ('K',5)],\n",
    "    'J': [('H',9), ('K',3), ('N',6)],\n",
    "    'K': [('H',5), ('J',3), ('L',5)],\n",
    "    'L': [('D',7), ('G',3), ('K',5), ('M',4), ('N',3), ('V', 10), ('W', 8)],\n",
    "    'M': [('L',4), ('P',2), ('Q',10)],\n",
    "    'N': [('J',6), ('L',3), ('P',4), ('S',7)],\n",
    "    'P': [('M',2), ('N',4), ('R',5)],\n",
    "    'Q': [('M',10),('S',8), ('W',4)],\n",
    "    'R': [('P',5), ('S',4), ('T', 3)],\n",
    "    'S': [('N',7), ('Q',8), ('R',4), ('T',4), ('U',2), ('V',6)],\n",
    "    'T': [('R',3), ('S',4), ('U',1)],\n",
    "    'U': [('S',2), ('T',1), ('V',3)],\n",
    "    'V': [('L',10), ('S',6), ('U',3), ('W',5)],\n",
    "    'W': [('E',6), ('L',8), ('Q',4), ('V',5)], \n",
    "}"
   ]
  },
  {
   "cell_type": "markdown",
   "id": "6491e4d7",
   "metadata": {},
   "source": [
    "# Question 1 \n",
    "## a) \n",
    "### 1\n",
    "Graph is a data structure composed of nodes that are connected to each other. Nodes in graphs are called Vertices and connections between them are called Edges. Graphs can be directed and undirected. (Gibson, 2009)  Additionally, in some graphs, edges can have weight assigned to them, that represents the cost of travelling that edge. There are multiple kinds of graphs with different properties. Graphs can have cycles and paths. \n",
    "\n",
    "Trees, on the other hand,  are a specific type of a connected graph that has no cycles. Connected means that we can traverse a tree, visiting all nodes. Trees have a single point of entry called  the root and  are hierarchical data structures that follow parent-child ordering, where each parent might have 1 or more nodes called children. Nodes without any children are called a leaf or a terminal node. (Kumar et al, 2019)\n",
    "</br>\n",
    "### 2"
   ]
  }
 ],
 "metadata": {
  "kernelspec": {
   "display_name": "Python 3 (ipykernel)",
   "language": "python",
   "name": "python3"
  },
  "language_info": {
   "codemirror_mode": {
    "name": "ipython",
    "version": 3
   },
   "file_extension": ".py",
   "mimetype": "text/x-python",
   "name": "python",
   "nbconvert_exporter": "python",
   "pygments_lexer": "ipython3",
   "version": "3.10.7"
  }
 },
 "nbformat": 4,
 "nbformat_minor": 5
}
